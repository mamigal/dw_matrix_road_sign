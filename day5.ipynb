{
  "nbformat": 4,
  "nbformat_minor": 0,
  "metadata": {
    "colab": {
      "name": "day5.ipynb",
      "provenance": [],
      "mount_file_id": "13DLn6ZagKk4nSVGjeFAM06WXaazRlysI",
      "authorship_tag": "ABX9TyP35dtjgaXJGrSHFhYK/CbI",
      "include_colab_link": true
    },
    "kernelspec": {
      "name": "python3",
      "display_name": "Python 3"
    },
    "accelerator": "GPU"
  },
  "cells": [
    {
      "cell_type": "markdown",
      "metadata": {
        "id": "view-in-github",
        "colab_type": "text"
      },
      "source": [
        "<a href=\"https://colab.research.google.com/github/mamigal/dw_matrix_road_sign/blob/master/day5.ipynb\" target=\"_parent\"><img src=\"https://colab.research.google.com/assets/colab-badge.svg\" alt=\"Open In Colab\"/></a>"
      ]
    },
    {
      "cell_type": "code",
      "metadata": {
        "id": "O_xwJ1ZKALiO",
        "colab_type": "code",
        "colab": {
          "base_uri": "https://localhost:8080/",
          "height": 170
        },
        "outputId": "7fb8c809-080f-4282-d105-995653f3fca6"
      },
      "source": [
        "!pip install hyperopt"
      ],
      "execution_count": 1,
      "outputs": [
        {
          "output_type": "stream",
          "text": [
            "Requirement already satisfied: hyperopt in /usr/local/lib/python3.6/dist-packages (0.1.2)\n",
            "Requirement already satisfied: numpy in /usr/local/lib/python3.6/dist-packages (from hyperopt) (1.18.2)\n",
            "Requirement already satisfied: networkx in /usr/local/lib/python3.6/dist-packages (from hyperopt) (2.4)\n",
            "Requirement already satisfied: future in /usr/local/lib/python3.6/dist-packages (from hyperopt) (0.16.0)\n",
            "Requirement already satisfied: pymongo in /usr/local/lib/python3.6/dist-packages (from hyperopt) (3.10.1)\n",
            "Requirement already satisfied: six in /usr/local/lib/python3.6/dist-packages (from hyperopt) (1.12.0)\n",
            "Requirement already satisfied: scipy in /usr/local/lib/python3.6/dist-packages (from hyperopt) (1.4.1)\n",
            "Requirement already satisfied: tqdm in /usr/local/lib/python3.6/dist-packages (from hyperopt) (4.38.0)\n",
            "Requirement already satisfied: decorator>=4.3.0 in /usr/local/lib/python3.6/dist-packages (from networkx->hyperopt) (4.4.2)\n"
          ],
          "name": "stdout"
        }
      ]
    },
    {
      "cell_type": "code",
      "metadata": {
        "id": "DrW__wjXAUpy",
        "colab_type": "code",
        "colab": {}
      },
      "source": [
        "import pandas as pd\n",
        "import numpy as np\n",
        "import matplotlib.pyplot as plt\n",
        "from skimage import color, exposure\n",
        "import os\n",
        "import datetime\n",
        "\n",
        "import tensorflow as tf\n",
        "from tensorflow.keras.models import Sequential\n",
        "from tensorflow.keras.layers import Conv2D, MaxPool2D, Dense, Flatten, Dropout\n",
        "from tensorflow.keras.utils import to_categorical\n",
        "from sklearn.metrics import accuracy_score\n",
        "\n",
        "%reload_ext tensorboard\n",
        "\n",
        "from hyperopt import hp, STATUS_OK, tpe, Trials, fmin"
      ],
      "execution_count": 0,
      "outputs": []
    },
    {
      "cell_type": "code",
      "metadata": {
        "id": "KmZToaLkAatb",
        "colab_type": "code",
        "colab": {
          "base_uri": "https://localhost:8080/",
          "height": 34
        },
        "outputId": "1e5e9a00-e301-483a-9540-fa4be832dfbc"
      },
      "source": [
        "cd '/content/drive/My Drive/Colab Notebooks/matrix/matrix_three/dw_matrix_road_sign'"
      ],
      "execution_count": 3,
      "outputs": [
        {
          "output_type": "stream",
          "text": [
            "/content/drive/My Drive/Colab Notebooks/matrix/matrix_three/dw_matrix_road_sign\n"
          ],
          "name": "stdout"
        }
      ]
    },
    {
      "cell_type": "code",
      "metadata": {
        "id": "z338rXS1AipY",
        "colab_type": "code",
        "colab": {}
      },
      "source": [
        "train = pd.read_pickle('data/train.p')\n",
        "test = pd.read_pickle('data/test.p')\n",
        "\n",
        "X_train, y_train = train['features'], train['labels']\n",
        "X_test, y_test = test['features'], test['labels']\n",
        "\n",
        "df = pd.read_csv('data/signnames.csv')\n",
        "labels_dict = df.to_dict()['b']"
      ],
      "execution_count": 0,
      "outputs": []
    },
    {
      "cell_type": "code",
      "metadata": {
        "id": "4zfPlPrSA38v",
        "colab_type": "code",
        "colab": {}
      },
      "source": [
        "if y_train.ndim == 1: y_train = to_categorical(y_train)\n",
        "if y_test.ndim == 1: y_test = to_categorical(y_test)"
      ],
      "execution_count": 0,
      "outputs": []
    },
    {
      "cell_type": "code",
      "metadata": {
        "id": "RYkqsvx1A8bE",
        "colab_type": "code",
        "colab": {}
      },
      "source": [
        "input_shape = X_train.shape[1:]\n",
        "num_classes = y_train.shape[1]"
      ],
      "execution_count": 0,
      "outputs": []
    },
    {
      "cell_type": "code",
      "metadata": {
        "id": "3iulnKGVC3gg",
        "colab_type": "code",
        "colab": {}
      },
      "source": [
        "def train_model(model, X_train, y_train, params_fit={}):\n",
        "  model.compile(loss= 'categorical_crossentropy', optimizer='Adam', metrics='accuracy')\n",
        "\n",
        "  logdir = os.path.join(\"logs\", datetime.datetime.now().strftime(\"%Y%m%d-%H%M%S\"))\n",
        "  tensorboard_callback = tf.keras.callbacks.TensorBoard( logdir, histogram_freq=1)\n",
        "  \n",
        "  model.fit(\n",
        "      X_train, \n",
        "      y_train,\n",
        "      batch_size=params_fit.get('batch size', 128),\n",
        "      epochs=params_fit.get('epochs', 5),\n",
        "      verbose=params_fit.get('verbose', 1),\n",
        "      validation_data=params_fit.get('validation data', (X_train, y_train)),\n",
        "      callbacks=[tensorboard_callback]\n",
        "  )\n",
        "  return model\n",
        "\n",
        "def predict(model_trained, X_test, y_test, scoring=accuracy_score):\n",
        "  y_test_norm = np.argmax(y_test, axis=1)\n",
        "\n",
        "  y_pred_prob = model_trained.predict(X_test)\n",
        "  y_pred = np.argmax(y_pred_prob, axis=1)\n",
        "\n",
        "  return scoring(y_test_norm, y_pred)"
      ],
      "execution_count": 0,
      "outputs": []
    },
    {
      "cell_type": "code",
      "metadata": {
        "id": "YTPi4B5wBA1Y",
        "colab_type": "code",
        "colab": {
          "base_uri": "https://localhost:8080/",
          "height": 130
        },
        "outputId": "d10fa3a7-eda7-4116-c213-e8550ee42508"
      },
      "source": [
        "  model.compile(loss= 'categorical_crossentropy', optimizer='Adam', metrics='accuracy')\n",
        "\n",
        "  logdir = os.path.join(\"logs\", datetime.datetime.now().strftime(\"%Y%m%d-%H%M%S\"))\n",
        "  tensorboard_callback = tf.keras.callbacks.TensorBoard( logdir, histogram_freq=1)\n",
        "  \n",
        "  model.fit(\n",
        "      X_train, \n",
        "      y_train,\n",
        "      batch_size=params_fit.get('batch size', 128),\n",
        "      epochs=params_fit.get('epochs', 5),\n",
        "      verbose=params_fit.get('verbose', 1),\n",
        "      validation_data=params_fit.get('validation data', (X_train, y_train)),\n",
        "      callbacks=[tensorboard_callback]\n",
        "  )\n",
        "  return model\n",
        "\n",
        "def predict(model_trained, X_test, y_test, scoring=accuracy_score):\n",
        "  \n",
        "  y_test_norm = np.argmax(y_test, axis=1)\n",
        "  y_pred_prob = model_trained.predict(X_test)\n",
        "  y_pred = np.argmax(y_pred_prob, axis=1)\n",
        "\n",
        "  return scoring(y_test_norm, y_pred)"
      ],
      "execution_count": 18,
      "outputs": [
        {
          "output_type": "error",
          "ename": "IndentationError",
          "evalue": "ignored",
          "traceback": [
            "\u001b[0;36m  File \u001b[0;32m\"<ipython-input-19-67734995ca88>\"\u001b[0;36m, line \u001b[0;32m19\u001b[0m\n\u001b[0;31m    y_test_norm = np.argmax(y_test, axis=1)\u001b[0m\n\u001b[0m              ^\u001b[0m\n\u001b[0;31mIndentationError\u001b[0m\u001b[0;31m:\u001b[0m expected an indented block\n"
          ]
        }
      ]
    },
    {
      "cell_type": "code",
      "metadata": {
        "id": "wB9ZIbuTMM4f",
        "colab_type": "code",
        "colab": {}
      },
      "source": [
        "def get_cnn_v5(input_shape, num_classes):\n",
        "  return Sequential([\n",
        "  Conv2D(filters=32, kernel_size=(3,3), activation='relu', input_shape=input_shape),\n",
        "  Conv2D(filters=32, kernel_size=(3,3), activation='relu', input_shape=input_shape),\n",
        "  Conv2D(filters=32, kernel_size=(3,3), activation='relu', padding='same'),\n",
        "  MaxPool2D(),\n",
        "  Dropout(0.3),\n",
        "  \n",
        "  Conv2D(filters=64, kernel_size=(3,3), activation='relu', padding='same'),\n",
        "  Conv2D(filters=64, kernel_size=(3,3), activation='relu'),\n",
        "  MaxPool2D(),\n",
        "  Dropout(0.3),\n",
        "\n",
        "  Conv2D(filters=64, kernel_size=(3,3), activation='relu', padding='same'),\n",
        "  Conv2D(filters=64, kernel_size=(3,3), activation='relu'),\n",
        "  MaxPool2D(),\n",
        "  Dropout(0.3),\n",
        "\n",
        "  Flatten(),\n",
        "\n",
        "  Dense(1024, activation='relu'),\n",
        "  Dropout(0.3),\n",
        "\n",
        "  Dense(1024, activation='relu'),\n",
        "  Dropout(0.3),\n",
        "\n",
        "  Dense(num_classes, activation='softmax')\n",
        "  ])"
      ],
      "execution_count": 0,
      "outputs": []
    },
    {
      "cell_type": "code",
      "metadata": {
        "id": "BUMt2sJ5BZ-K",
        "colab_type": "code",
        "colab": {
          "base_uri": "https://localhost:8080/",
          "height": 204
        },
        "outputId": "bc71b905-c041-44ed-a634-7e99b4c5759b"
      },
      "source": [
        "model = get_cnn_v5(input_shape, num_classes)\n",
        "model_trained = train_model(model, X_train, y_train)\n",
        "\n",
        "predict(model_trained, X_test, y_test)"
      ],
      "execution_count": 14,
      "outputs": [
        {
          "output_type": "stream",
          "text": [
            "Epoch 1/5\n",
            "272/272 [==============================] - 6s 21ms/step - loss: 2.6348 - accuracy: 0.2729 - val_loss: 1.2389 - val_accuracy: 0.6328\n",
            "Epoch 2/5\n",
            "272/272 [==============================] - 5s 19ms/step - loss: 0.9503 - accuracy: 0.7011 - val_loss: 0.3896 - val_accuracy: 0.8721\n",
            "Epoch 3/5\n",
            "272/272 [==============================] - 5s 19ms/step - loss: 0.4680 - accuracy: 0.8531 - val_loss: 0.1557 - val_accuracy: 0.9513\n",
            "Epoch 4/5\n",
            "272/272 [==============================] - 5s 20ms/step - loss: 0.3160 - accuracy: 0.9032 - val_loss: 0.0936 - val_accuracy: 0.9725\n",
            "Epoch 5/5\n",
            "272/272 [==============================] - 5s 19ms/step - loss: 0.2264 - accuracy: 0.9316 - val_loss: 0.0557 - val_accuracy: 0.9846\n"
          ],
          "name": "stdout"
        },
        {
          "output_type": "execute_result",
          "data": {
            "text/plain": [
              "0.9582766439909297"
            ]
          },
          "metadata": {
            "tags": []
          },
          "execution_count": 14
        }
      ]
    },
    {
      "cell_type": "code",
      "metadata": {
        "id": "Xt4X0zEDIRss",
        "colab_type": "code",
        "colab": {
          "base_uri": "https://localhost:8080/",
          "height": 51
        },
        "outputId": "565479df-a683-40a3-fb01-6e3a4f365297"
      },
      "source": [
        "model_trained.evaluate(X_test, y_test)"
      ],
      "execution_count": 20,
      "outputs": [
        {
          "output_type": "stream",
          "text": [
            "138/138 [==============================] - 1s 4ms/step - loss: 0.1848 - accuracy: 0.9583\n"
          ],
          "name": "stdout"
        },
        {
          "output_type": "execute_result",
          "data": {
            "text/plain": [
              "[0.1847628504037857, 0.958276629447937]"
            ]
          },
          "metadata": {
            "tags": []
          },
          "execution_count": 20
        }
      ]
    },
    {
      "cell_type": "code",
      "metadata": {
        "id": "kMO1tjJLMup8",
        "colab_type": "code",
        "colab": {}
      },
      "source": [
        "def get_model(params):\n",
        "  return Sequential([\n",
        "  Conv2D(filters=32, kernel_size=(3,3), activation='relu', input_shape=input_shape),\n",
        "  Conv2D(filters=32, kernel_size=(3,3), activation='relu', padding='same'),\n",
        "  MaxPool2D(),\n",
        "  Dropout(params['dropout_cnn_block_one']),\n",
        "  \n",
        "  Conv2D(filters=64, kernel_size=(3,3), activation='relu', padding='same'),\n",
        "  Conv2D(filters=64, kernel_size=(3,3), activation='relu'),\n",
        "  MaxPool2D(),\n",
        "  Dropout(params['dropout_cnn_block_two']),\n",
        "\n",
        "  Conv2D(filters=128, kernel_size=(3,3), activation='relu', padding='same'),\n",
        "  Conv2D(filters=128, kernel_size=(3,3), activation='relu'),\n",
        "  MaxPool2D(),\n",
        "  Dropout(params['dropout_cnn_block_three']),\n",
        "\n",
        "  Flatten(),\n",
        "\n",
        "  Dense(1024, activation='relu'),\n",
        "  Dropout(params['dropout_dense_block_one']),\n",
        "\n",
        "  Dense(1024, activation='relu'),\n",
        "  Dropout(params['dropout_dense_block_two']),\n",
        "\n",
        "  Dense(num_classes, activation='softmax')\n",
        "  ])"
      ],
      "execution_count": 0,
      "outputs": []
    },
    {
      "cell_type": "code",
      "metadata": {
        "id": "oYXvunkmMzu8",
        "colab_type": "code",
        "colab": {}
      },
      "source": [
        "def func_obj(params):\n",
        "  model = get_model(params)\n",
        "  model.compile(loss= 'categorical_crossentropy', optimizer='Adam', metrics=[ 'accuracy' ])\n",
        "  \n",
        "  model.fit(\n",
        "      X_train, \n",
        "      y_train,\n",
        "      batch_size=int(params.get('batch size', 128)),\n",
        "      epochs=5,\n",
        "      verbose=0\n",
        "  )\n",
        "\n",
        "  score = model.evaluate(X_test, y_test, verbose=0)\n",
        "  accuracy = score[1]\n",
        "  print(params, 'accuracy = {}'.format(accuracy))\n",
        "\n",
        "  return {'loss': -accuracy, 'status': STATUS_OK, 'model': model} \n",
        "  #the function wants to minimize. accuracy attempts to be \"1\". to combine it, the accuracy must be presented as going to \"-1\"."
      ],
      "execution_count": 0,
      "outputs": []
    },
    {
      "cell_type": "code",
      "metadata": {
        "id": "60op2rXjM4av",
        "colab_type": "code",
        "colab": {
          "base_uri": "https://localhost:8080/",
          "height": 1000
        },
        "outputId": "069d727d-1ee9-4904-889c-56f80e2f870a"
      },
      "source": [
        "space = {\n",
        "    'batch size' : hp.quniform('batch size', 100, 200, 10),\n",
        "    'dropout_cnn_block_one': hp.uniform('dropout_cnn_block_one', 0.3, 0.5),\n",
        "    'dropout_cnn_block_two': hp.uniform('dropout_cnn_block_two', 0.3, 0.5),\n",
        "    'dropout_cnn_block_three': hp.uniform('dropout_cnn_block_three', 0.3, 0.5),\n",
        "    'dropout_dense_block_one': hp.uniform('dropout_dense_block_one', 0.3, 0.7),\n",
        "    'dropout_dense_block_two': hp.uniform('dropout_dense_block_two', 0.3, 0.7)\n",
        "}\n",
        "\n",
        "best = fmin(\n",
        "    func_obj,\n",
        "    space,\n",
        "    tpe.suggest,\n",
        "    30,\n",
        "    Trials()\n",
        ")"
      ],
      "execution_count": 23,
      "outputs": [
        {
          "output_type": "stream",
          "text": [
            "{'batch size': 110.0, 'dropout_cnn_block_one': 0.33484307421691667, 'dropout_cnn_block_three': 0.4391162947721748, 'dropout_cnn_block_two': 0.48338501879906703, 'dropout_dense_block_one': 0.5842250020436467, 'dropout_dense_block_two': 0.6550915490629139}\n",
            "accuracy = 0.8623582720756531\n",
            "{'batch size': 100.0, 'dropout_cnn_block_one': 0.412895091768431, 'dropout_cnn_block_three': 0.45594274751809305, 'dropout_cnn_block_two': 0.4880232264378016, 'dropout_dense_block_one': 0.5468576595938822, 'dropout_dense_block_two': 0.47152326804912686}\n",
            "accuracy = 0.9034013748168945\n",
            "{'batch size': 160.0, 'dropout_cnn_block_one': 0.3437162454081508, 'dropout_cnn_block_three': 0.40107824798503033, 'dropout_cnn_block_two': 0.35022370085068477, 'dropout_dense_block_one': 0.6063206176414275, 'dropout_dense_block_two': 0.5274056610631496}\n",
            "accuracy = 0.9344671368598938\n",
            "{'batch size': 180.0, 'dropout_cnn_block_one': 0.4584045610217915, 'dropout_cnn_block_three': 0.4848629133588705, 'dropout_cnn_block_two': 0.4127449484151756, 'dropout_dense_block_one': 0.5187680737976762, 'dropout_dense_block_two': 0.5367076840740084}\n",
            "accuracy = 0.7934240102767944\n",
            "{'batch size': 130.0, 'dropout_cnn_block_one': 0.49088328379887985, 'dropout_cnn_block_three': 0.4398157508829944, 'dropout_cnn_block_two': 0.49249674662237736, 'dropout_dense_block_one': 0.42251383442463547, 'dropout_dense_block_two': 0.3441698918102297}\n",
            "accuracy = 0.8201814293861389\n",
            "{'batch size': 150.0, 'dropout_cnn_block_one': 0.3558447388321855, 'dropout_cnn_block_three': 0.36046937885638186, 'dropout_cnn_block_two': 0.3498338230495992, 'dropout_dense_block_one': 0.6453725815641747, 'dropout_dense_block_two': 0.30610202943980297}\n",
            "accuracy = 0.9612244963645935\n",
            "{'batch size': 180.0, 'dropout_cnn_block_one': 0.49972626161950906, 'dropout_cnn_block_three': 0.4755355973326365, 'dropout_cnn_block_two': 0.3689370759135517, 'dropout_dense_block_one': 0.4251005561431298, 'dropout_dense_block_two': 0.5271846999443427}\n",
            "accuracy = 0.8290249705314636\n",
            "{'batch size': 150.0, 'dropout_cnn_block_one': 0.34956878179166456, 'dropout_cnn_block_three': 0.3913152836304992, 'dropout_cnn_block_two': 0.3395332289974431, 'dropout_dense_block_one': 0.3483061274576329, 'dropout_dense_block_two': 0.678991547889708}\n",
            "accuracy = 0.9650793671607971\n",
            "{'batch size': 140.0, 'dropout_cnn_block_one': 0.3833229683381637, 'dropout_cnn_block_three': 0.4914919543427249, 'dropout_cnn_block_two': 0.3783808464076568, 'dropout_dense_block_one': 0.5524276691187128, 'dropout_dense_block_two': 0.3965789791269297}\n",
            "accuracy = 0.9247165322303772\n",
            "{'batch size': 180.0, 'dropout_cnn_block_one': 0.3643411072023216, 'dropout_cnn_block_three': 0.323240889210978, 'dropout_cnn_block_two': 0.33227064879377677, 'dropout_dense_block_one': 0.6561615153553444, 'dropout_dense_block_two': 0.3954332833434801}\n",
            "accuracy = 0.9145124554634094\n",
            "{'batch size': 150.0, 'dropout_cnn_block_one': 0.3578468426242118, 'dropout_cnn_block_three': 0.366654464078154, 'dropout_cnn_block_two': 0.32147990476865695, 'dropout_dense_block_one': 0.6979508066162696, 'dropout_dense_block_two': 0.6005449630871524}\n",
            "accuracy = 0.9573696255683899\n",
            "{'batch size': 130.0, 'dropout_cnn_block_one': 0.3961996573959987, 'dropout_cnn_block_three': 0.35087475499257104, 'dropout_cnn_block_two': 0.33008541765242744, 'dropout_dense_block_one': 0.40609690428700096, 'dropout_dense_block_two': 0.3716546733519115}\n",
            "accuracy = 0.9705215692520142\n",
            "{'batch size': 140.0, 'dropout_cnn_block_one': 0.4889202483190789, 'dropout_cnn_block_three': 0.312741397761886, 'dropout_cnn_block_two': 0.4716867177847142, 'dropout_dense_block_one': 0.5052301786387541, 'dropout_dense_block_two': 0.553217182756327}\n",
            "accuracy = 0.9435374140739441\n",
            "{'batch size': 190.0, 'dropout_cnn_block_one': 0.37745474669534146, 'dropout_cnn_block_three': 0.3059457744556044, 'dropout_cnn_block_two': 0.30142828430511476, 'dropout_dense_block_one': 0.40907318442759344, 'dropout_dense_block_two': 0.4630100818406099}\n",
            "accuracy = 0.9190475940704346\n",
            "{'batch size': 200.0, 'dropout_cnn_block_one': 0.4552114224579237, 'dropout_cnn_block_three': 0.45119757078262684, 'dropout_cnn_block_two': 0.41407138204417954, 'dropout_dense_block_one': 0.4490442874764185, 'dropout_dense_block_two': 0.6460763257372049}\n",
            "accuracy = 0.6362811923027039\n",
            "{'batch size': 170.0, 'dropout_cnn_block_one': 0.31979207099488843, 'dropout_cnn_block_three': 0.4446377848386396, 'dropout_cnn_block_two': 0.42661977634170223, 'dropout_dense_block_one': 0.6454063867081841, 'dropout_dense_block_two': 0.556754026997264}\n",
            "accuracy = 0.8845804929733276\n",
            "{'batch size': 160.0, 'dropout_cnn_block_one': 0.45775518002763427, 'dropout_cnn_block_three': 0.48425035618813794, 'dropout_cnn_block_two': 0.31877609346961583, 'dropout_dense_block_one': 0.6985300085182755, 'dropout_dense_block_two': 0.5614106150895832}\n",
            "accuracy = 0.6875283718109131\n",
            "{'batch size': 170.0, 'dropout_cnn_block_one': 0.42700365982650457, 'dropout_cnn_block_three': 0.4531123186850819, 'dropout_cnn_block_two': 0.47244118740876173, 'dropout_dense_block_one': 0.5359085528617278, 'dropout_dense_block_two': 0.5971531330444624}\n",
            "accuracy = 0.9306122660636902\n",
            "{'batch size': 140.0, 'dropout_cnn_block_one': 0.4911125255828488, 'dropout_cnn_block_three': 0.3821045636007751, 'dropout_cnn_block_two': 0.3872944885097019, 'dropout_dense_block_one': 0.6318242178064106, 'dropout_dense_block_two': 0.35499987296353885}\n",
            "accuracy = 0.8505668640136719\n",
            "{'batch size': 200.0, 'dropout_cnn_block_one': 0.38983548084739716, 'dropout_cnn_block_three': 0.44334225743821976, 'dropout_cnn_block_two': 0.4550556309307521, 'dropout_dense_block_one': 0.39641429035075815, 'dropout_dense_block_two': 0.6177230412967301}\n",
            "accuracy = 0.8138322234153748\n",
            "{'batch size': 120.0, 'dropout_cnn_block_one': 0.30543550509429873, 'dropout_cnn_block_three': 0.3361925321455926, 'dropout_cnn_block_two': 0.3003356520069727, 'dropout_dense_block_one': 0.3132353882818951, 'dropout_dense_block_two': 0.425656617057661}\n",
            "accuracy = 0.9689342379570007\n",
            "{'batch size': 120.0, 'dropout_cnn_block_one': 0.30582041515733416, 'dropout_cnn_block_three': 0.3357552164080085, 'dropout_cnn_block_two': 0.30064074225012344, 'dropout_dense_block_one': 0.3063431711940252, 'dropout_dense_block_two': 0.41520462145391834}\n",
            "accuracy = 0.9716553092002869\n",
            "{'batch size': 120.0, 'dropout_cnn_block_one': 0.43357096912529713, 'dropout_cnn_block_three': 0.33919474653386505, 'dropout_cnn_block_two': 0.3031354230664184, 'dropout_dense_block_one': 0.3026651633670401, 'dropout_dense_block_two': 0.3482005266963943}\n",
            "accuracy = 0.9755101799964905\n",
            "{'batch size': 110.0, 'dropout_cnn_block_one': 0.43036462369189266, 'dropout_cnn_block_three': 0.41703741963157714, 'dropout_cnn_block_two': 0.30780543342871064, 'dropout_dense_block_one': 0.30853311034008885, 'dropout_dense_block_two': 0.30548421124327274}\n",
            "accuracy = 0.9573696255683899\n",
            "{'batch size': 100.0, 'dropout_cnn_block_one': 0.44002030415604415, 'dropout_cnn_block_three': 0.34264643895895636, 'dropout_cnn_block_two': 0.3573392089151589, 'dropout_dense_block_one': 0.35380386702996497, 'dropout_dense_block_two': 0.43951211212693786}\n",
            "accuracy = 0.9591836929321289\n",
            "{'batch size': 120.0, 'dropout_cnn_block_one': 0.408923959300242, 'dropout_cnn_block_three': 0.3303323801550804, 'dropout_cnn_block_two': 0.30175346478960513, 'dropout_dense_block_one': 0.4677476645209764, 'dropout_dense_block_two': 0.3192861580795126}\n",
            "accuracy = 0.9256235957145691\n",
            "{'batch size': 110.0, 'dropout_cnn_block_one': 0.4748532277518037, 'dropout_cnn_block_three': 0.3741023701817896, 'dropout_cnn_block_two': 0.315704182187286, 'dropout_dense_block_one': 0.3560833935974114, 'dropout_dense_block_two': 0.49497291636932816}\n",
            "accuracy = 0.9560090899467468\n",
            "{'batch size': 120.0, 'dropout_cnn_block_one': 0.3016810508104624, 'dropout_cnn_block_three': 0.303442105982612, 'dropout_cnn_block_two': 0.4457655745363168, 'dropout_dense_block_one': 0.30413858627298407, 'dropout_dense_block_two': 0.4151743837898454}\n",
            "accuracy = 0.9646258354187012\n",
            "{'batch size': 130.0, 'dropout_cnn_block_one': 0.33181035994571256, 'dropout_cnn_block_three': 0.4211809609167993, 'dropout_cnn_block_two': 0.394698022293065, 'dropout_dense_block_one': 0.3726498734206338, 'dropout_dense_block_two': 0.37857724103517154}\n",
            "accuracy = 0.9285714030265808\n",
            "{'batch size': 100.0, 'dropout_cnn_block_one': 0.4184475540599224, 'dropout_cnn_block_three': 0.3210741778544443, 'dropout_cnn_block_two': 0.3670215666565785, 'dropout_dense_block_one': 0.32545769678256464, 'dropout_dense_block_two': 0.3309687789919511}\n",
            "accuracy = 0.9365079402923584\n",
            "100%|██████████| 30/30 [07:45<00:00, 15.52s/it, best loss: -0.9755101799964905]\n"
          ],
          "name": "stdout"
        }
      ]
    },
    {
      "cell_type": "code",
      "metadata": {
        "id": "LGFDY7L9M8dj",
        "colab_type": "code",
        "colab": {}
      },
      "source": [
        ""
      ],
      "execution_count": 0,
      "outputs": []
    }
  ]
}